{
  "cells": [
    {
      "cell_type": "code",
      "execution_count": 71,
      "metadata": {
        "id": "BrREVkjbrtZX"
      },
      "outputs": [],
      "source": [
        "import pyodbc\n",
        "import numpy as np\n",
        "import pandas as pd\n",
        "import matplotlib.pyplot as plt\n",
        "from sklearn.pipeline import make_pipeline\n",
        "from sklearn.preprocessing import StandardScaler\n",
        "from sklearn.linear_model import LinearRegression\n",
        "from sklearn.preprocessing import PolynomialFeatures\n",
        "from sklearn.linear_model import Ridge\n",
        "from sklearn.linear_model import Lasso\n",
        "from sklearn.pipeline import Pipeline\n",
        "from requests.auth import HTTPBasicAuth\n",
        "import requests\n",
        "from sklearn import metrics\n",
        "from sklearn.neural_network import MLPRegressor\n",
        "from sklearn.datasets import make_regression\n",
        "from sklearn.model_selection import train_test_split\n"
      ]
    },
    {
      "cell_type": "code",
      "execution_count": 72,
      "metadata": {
        "colab": {
          "base_uri": "https://localhost:8080/",
          "height": 224
        },
        "id": "07jJNb9LryP1",
        "outputId": "b5652bab-66c5-410f-c17a-ce2f14220c1c"
      },
      "outputs": [
        {
          "name": "stdout",
          "output_type": "stream",
          "text": [
            "Dimension of dataset=  (11866, 4)\n"
          ]
        },
        {
          "data": {
            "text/html": [
              "<div>\n",
              "<style scoped>\n",
              "    .dataframe tbody tr th:only-of-type {\n",
              "        vertical-align: middle;\n",
              "    }\n",
              "\n",
              "    .dataframe tbody tr th {\n",
              "        vertical-align: top;\n",
              "    }\n",
              "\n",
              "    .dataframe thead th {\n",
              "        text-align: right;\n",
              "    }\n",
              "</style>\n",
              "<table border=\"1\" class=\"dataframe\">\n",
              "  <thead>\n",
              "    <tr style=\"text-align: right;\">\n",
              "      <th></th>\n",
              "      <th>Type Of Operation</th>\n",
              "      <th>Duration of the Operation</th>\n",
              "      <th>Age</th>\n",
              "      <th>Quantity of Oxygen Consumed</th>\n",
              "    </tr>\n",
              "  </thead>\n",
              "  <tbody>\n",
              "    <tr>\n",
              "      <th>0</th>\n",
              "      <td>1</td>\n",
              "      <td>3.54</td>\n",
              "      <td>20</td>\n",
              "      <td>53.10</td>\n",
              "    </tr>\n",
              "    <tr>\n",
              "      <th>1</th>\n",
              "      <td>2</td>\n",
              "      <td>5.45</td>\n",
              "      <td>21</td>\n",
              "      <td>81.75</td>\n",
              "    </tr>\n",
              "    <tr>\n",
              "      <th>2</th>\n",
              "      <td>1</td>\n",
              "      <td>6.32</td>\n",
              "      <td>22</td>\n",
              "      <td>94.80</td>\n",
              "    </tr>\n",
              "    <tr>\n",
              "      <th>3</th>\n",
              "      <td>2</td>\n",
              "      <td>2.28</td>\n",
              "      <td>23</td>\n",
              "      <td>34.20</td>\n",
              "    </tr>\n",
              "    <tr>\n",
              "      <th>4</th>\n",
              "      <td>3</td>\n",
              "      <td>1.30</td>\n",
              "      <td>24</td>\n",
              "      <td>19.50</td>\n",
              "    </tr>\n",
              "  </tbody>\n",
              "</table>\n",
              "</div>"
            ],
            "text/plain": [
              "   Type Of Operation  Duration of the Operation  Age  \\\n",
              "0                  1                       3.54   20   \n",
              "1                  2                       5.45   21   \n",
              "2                  1                       6.32   22   \n",
              "3                  2                       2.28   23   \n",
              "4                  3                       1.30   24   \n",
              "\n",
              "   Quantity of Oxygen Consumed  \n",
              "0                        53.10  \n",
              "1                        81.75  \n",
              "2                        94.80  \n",
              "3                        34.20  \n",
              "4                        19.50  "
            ]
          },
          "execution_count": 72,
          "metadata": {},
          "output_type": "execute_result"
        }
      ],
      "source": [
        "oxygendataframe = pd.read_csv('https://raw.githubusercontent.com/DEVAGOPIKRISHNAPRASAD/IotWithDataScience/main/iotwithdatascienceoxygeninfo_mercyhospitalhistory_traindata.csv')\n",
        "print('Dimension of dataset= ', oxygendataframe.shape)\n",
        "oxygendataframe.head()"
      ]
    },
    {
      "cell_type": "code",
      "execution_count": 73,
      "metadata": {
        "colab": {
          "base_uri": "https://localhost:8080/"
        },
        "id": "jYrX4JvJr1MC",
        "outputId": "0cddb745-b3c7-4c76-8e06-c42d5b3b7469"
      },
      "outputs": [
        {
          "name": "stdout",
          "output_type": "stream",
          "text": [
            "Features = [ 1.    3.54 20.  ] , output = 53.1\n",
            "Features = [ 2.    5.45 21.  ] , output = 81.75\n",
            "Features = [ 1.    6.32 22.  ] , output = 94.8\n",
            "Features = [ 2.    2.28 23.  ] , output = 34.2\n",
            "Features = [ 3.   1.3 24. ] , output = 19.5\n"
          ]
        }
      ],
      "source": [
        "Features = oxygendataframe.values[:, 0:3]  \n",
        "output = oxygendataframe.values[:, 3] \n",
        "\n",
        "for i in range(5):\n",
        "    print('Features =', Features[i, ], ', output =', output[i])"
      ]
    },
    {
      "cell_type": "markdown",
      "metadata": {},
      "source": [
        "Ordinary Liner Regression Model, Ridge , Lasso and MLP_Relu Models"
      ]
    },
    {
      "cell_type": "code",
      "execution_count": 74,
      "metadata": {
        "colab": {
          "base_uri": "https://localhost:8080/"
        },
        "id": "RYJjeRyAr7Yr",
        "outputId": "ba5f1f1f-9f01-4803-9ec8-6dee805777e7"
      },
      "outputs": [],
      "source": [
        "# Ordinary Liner Regression Model\n",
        "ordinaryleastsquaresLinearRegressionModel = make_pipeline(StandardScaler(with_mean=True, with_std=True), LinearRegression())\n",
        "ordinaryleastsquaresLinearRegressionModel.fit(Features ,output)\n",
        "\n",
        "# Ridge\n",
        "steps = [\n",
        "    ('scalar', StandardScaler()),\n",
        "    ('poly', PolynomialFeatures(degree=3)),\n",
        "    ('model', Ridge(alpha=0.01,max_iter=10000))\n",
        "]\n",
        "\n",
        "ridge_model = Pipeline(steps)\n",
        "ridge_model.fit(Features ,output)\n",
        "\n",
        "# Lasso\n",
        "steps = [\n",
        "    ('scalar', StandardScaler()),\n",
        "    ('poly', PolynomialFeatures(degree=3)),\n",
        "    ('model', Lasso(alpha=0.01,max_iter=10000))\n",
        "]\n",
        "\n",
        "lasso_model = Pipeline(steps)\n",
        "lasso_model.fit(Features ,output)\n",
        "\n",
        "\n",
        "# MLP_Relu\n",
        "MLP_Relu = MLPRegressor(random_state=1, max_iter=100000, alpha=0.1, activation=\"relu\").fit(Features, output)\n"
      ]
    },
    {
      "cell_type": "code",
      "execution_count": 75,
      "metadata": {},
      "outputs": [
        {
          "data": {
            "text/html": [
              "<div>\n",
              "<style scoped>\n",
              "    .dataframe tbody tr th:only-of-type {\n",
              "        vertical-align: middle;\n",
              "    }\n",
              "\n",
              "    .dataframe tbody tr th {\n",
              "        vertical-align: top;\n",
              "    }\n",
              "\n",
              "    .dataframe thead th {\n",
              "        text-align: right;\n",
              "    }\n",
              "</style>\n",
              "<table border=\"1\" class=\"dataframe\">\n",
              "  <thead>\n",
              "    <tr style=\"text-align: right;\">\n",
              "      <th></th>\n",
              "      <th>0</th>\n",
              "      <th>1</th>\n",
              "      <th>2</th>\n",
              "      <th>3</th>\n",
              "      <th>4</th>\n",
              "      <th>5</th>\n",
              "      <th>6</th>\n",
              "      <th>7</th>\n",
              "      <th>8</th>\n",
              "      <th>9</th>\n",
              "      <th>...</th>\n",
              "      <th>11856</th>\n",
              "      <th>11857</th>\n",
              "      <th>11858</th>\n",
              "      <th>11859</th>\n",
              "      <th>11860</th>\n",
              "      <th>11861</th>\n",
              "      <th>11862</th>\n",
              "      <th>11863</th>\n",
              "      <th>11864</th>\n",
              "      <th>11865</th>\n",
              "    </tr>\n",
              "  </thead>\n",
              "  <tbody>\n",
              "    <tr>\n",
              "      <th>Actual Oxygen Quantity using ordinary LinerRegression</th>\n",
              "      <td>53.100000</td>\n",
              "      <td>81.750000</td>\n",
              "      <td>94.800000</td>\n",
              "      <td>34.200000</td>\n",
              "      <td>19.500000</td>\n",
              "      <td>66.000000</td>\n",
              "      <td>139.500000</td>\n",
              "      <td>151.200000</td>\n",
              "      <td>34.200000</td>\n",
              "      <td>66.000000</td>\n",
              "      <td>...</td>\n",
              "      <td>151.200000</td>\n",
              "      <td>34.200000</td>\n",
              "      <td>66.000000</td>\n",
              "      <td>128.250000</td>\n",
              "      <td>139.500000</td>\n",
              "      <td>53.100000</td>\n",
              "      <td>81.750000</td>\n",
              "      <td>94.800000</td>\n",
              "      <td>34.200000</td>\n",
              "      <td>19.500000</td>\n",
              "    </tr>\n",
              "    <tr>\n",
              "      <th>Predicted Oxygen Quantity using ordinary LinerRegression</th>\n",
              "      <td>54.105510</td>\n",
              "      <td>81.800494</td>\n",
              "      <td>94.461017</td>\n",
              "      <td>35.776983</td>\n",
              "      <td>21.516444</td>\n",
              "      <td>66.487232</td>\n",
              "      <td>137.589487</td>\n",
              "      <td>148.943436</td>\n",
              "      <td>35.769250</td>\n",
              "      <td>66.481045</td>\n",
              "      <td>...</td>\n",
              "      <td>148.846005</td>\n",
              "      <td>35.749762</td>\n",
              "      <td>66.525278</td>\n",
              "      <td>126.739421</td>\n",
              "      <td>137.625986</td>\n",
              "      <td>54.003743</td>\n",
              "      <td>81.794308</td>\n",
              "      <td>94.391111</td>\n",
              "      <td>35.707077</td>\n",
              "      <td>21.510258</td>\n",
              "    </tr>\n",
              "    <tr>\n",
              "      <th>Predicted Oxygen Quantity using Ridge</th>\n",
              "      <td>54.424100</td>\n",
              "      <td>81.268532</td>\n",
              "      <td>94.146626</td>\n",
              "      <td>36.070498</td>\n",
              "      <td>21.439318</td>\n",
              "      <td>65.908609</td>\n",
              "      <td>138.426605</td>\n",
              "      <td>150.841551</td>\n",
              "      <td>36.272345</td>\n",
              "      <td>65.973561</td>\n",
              "      <td>...</td>\n",
              "      <td>151.719817</td>\n",
              "      <td>35.765237</td>\n",
              "      <td>66.114046</td>\n",
              "      <td>126.368093</td>\n",
              "      <td>138.218014</td>\n",
              "      <td>53.753943</td>\n",
              "      <td>81.288509</td>\n",
              "      <td>93.293334</td>\n",
              "      <td>35.817122</td>\n",
              "      <td>21.648508</td>\n",
              "    </tr>\n",
              "    <tr>\n",
              "      <th>Predicted Oxygen Quantity using Lasso</th>\n",
              "      <td>54.433575</td>\n",
              "      <td>81.292867</td>\n",
              "      <td>94.156961</td>\n",
              "      <td>36.032654</td>\n",
              "      <td>21.334194</td>\n",
              "      <td>65.983957</td>\n",
              "      <td>138.299234</td>\n",
              "      <td>150.745528</td>\n",
              "      <td>36.232683</td>\n",
              "      <td>66.065516</td>\n",
              "      <td>...</td>\n",
              "      <td>151.615170</td>\n",
              "      <td>35.715449</td>\n",
              "      <td>66.155615</td>\n",
              "      <td>126.343523</td>\n",
              "      <td>138.150449</td>\n",
              "      <td>53.792842</td>\n",
              "      <td>81.301941</td>\n",
              "      <td>93.347779</td>\n",
              "      <td>35.794080</td>\n",
              "      <td>21.560194</td>\n",
              "    </tr>\n",
              "    <tr>\n",
              "      <th>Predicted Oxygen Quantity using MLP</th>\n",
              "      <td>54.331856</td>\n",
              "      <td>81.921578</td>\n",
              "      <td>94.641722</td>\n",
              "      <td>35.914623</td>\n",
              "      <td>21.579031</td>\n",
              "      <td>66.432118</td>\n",
              "      <td>137.191243</td>\n",
              "      <td>148.632307</td>\n",
              "      <td>35.865437</td>\n",
              "      <td>66.392770</td>\n",
              "      <td>...</td>\n",
              "      <td>148.192633</td>\n",
              "      <td>35.835268</td>\n",
              "      <td>66.580332</td>\n",
              "      <td>126.321825</td>\n",
              "      <td>137.053594</td>\n",
              "      <td>53.965910</td>\n",
              "      <td>81.882230</td>\n",
              "      <td>94.384642</td>\n",
              "      <td>35.657543</td>\n",
              "      <td>21.539683</td>\n",
              "    </tr>\n",
              "  </tbody>\n",
              "</table>\n",
              "<p>5 rows × 11866 columns</p>\n",
              "</div>"
            ],
            "text/plain": [
              "                                                        0          1      \\\n",
              "Actual Oxygen Quantity using ordinary LinerRegr...  53.100000  81.750000   \n",
              "Predicted Oxygen Quantity using ordinary LinerR...  54.105510  81.800494   \n",
              "Predicted Oxygen Quantity using Ridge               54.424100  81.268532   \n",
              "Predicted Oxygen Quantity using Lasso               54.433575  81.292867   \n",
              "Predicted Oxygen Quantity using MLP                 54.331856  81.921578   \n",
              "\n",
              "                                                        2          3      \\\n",
              "Actual Oxygen Quantity using ordinary LinerRegr...  94.800000  34.200000   \n",
              "Predicted Oxygen Quantity using ordinary LinerR...  94.461017  35.776983   \n",
              "Predicted Oxygen Quantity using Ridge               94.146626  36.070498   \n",
              "Predicted Oxygen Quantity using Lasso               94.156961  36.032654   \n",
              "Predicted Oxygen Quantity using MLP                 94.641722  35.914623   \n",
              "\n",
              "                                                        4          5      \\\n",
              "Actual Oxygen Quantity using ordinary LinerRegr...  19.500000  66.000000   \n",
              "Predicted Oxygen Quantity using ordinary LinerR...  21.516444  66.487232   \n",
              "Predicted Oxygen Quantity using Ridge               21.439318  65.908609   \n",
              "Predicted Oxygen Quantity using Lasso               21.334194  65.983957   \n",
              "Predicted Oxygen Quantity using MLP                 21.579031  66.432118   \n",
              "\n",
              "                                                         6           7      \\\n",
              "Actual Oxygen Quantity using ordinary LinerRegr...  139.500000  151.200000   \n",
              "Predicted Oxygen Quantity using ordinary LinerR...  137.589487  148.943436   \n",
              "Predicted Oxygen Quantity using Ridge               138.426605  150.841551   \n",
              "Predicted Oxygen Quantity using Lasso               138.299234  150.745528   \n",
              "Predicted Oxygen Quantity using MLP                 137.191243  148.632307   \n",
              "\n",
              "                                                        8          9      ...  \\\n",
              "Actual Oxygen Quantity using ordinary LinerRegr...  34.200000  66.000000  ...   \n",
              "Predicted Oxygen Quantity using ordinary LinerR...  35.769250  66.481045  ...   \n",
              "Predicted Oxygen Quantity using Ridge               36.272345  65.973561  ...   \n",
              "Predicted Oxygen Quantity using Lasso               36.232683  66.065516  ...   \n",
              "Predicted Oxygen Quantity using MLP                 35.865437  66.392770  ...   \n",
              "\n",
              "                                                         11856      11857  \\\n",
              "Actual Oxygen Quantity using ordinary LinerRegr...  151.200000  34.200000   \n",
              "Predicted Oxygen Quantity using ordinary LinerR...  148.846005  35.749762   \n",
              "Predicted Oxygen Quantity using Ridge               151.719817  35.765237   \n",
              "Predicted Oxygen Quantity using Lasso               151.615170  35.715449   \n",
              "Predicted Oxygen Quantity using MLP                 148.192633  35.835268   \n",
              "\n",
              "                                                        11858       11859  \\\n",
              "Actual Oxygen Quantity using ordinary LinerRegr...  66.000000  128.250000   \n",
              "Predicted Oxygen Quantity using ordinary LinerR...  66.525278  126.739421   \n",
              "Predicted Oxygen Quantity using Ridge               66.114046  126.368093   \n",
              "Predicted Oxygen Quantity using Lasso               66.155615  126.343523   \n",
              "Predicted Oxygen Quantity using MLP                 66.580332  126.321825   \n",
              "\n",
              "                                                         11860      11861  \\\n",
              "Actual Oxygen Quantity using ordinary LinerRegr...  139.500000  53.100000   \n",
              "Predicted Oxygen Quantity using ordinary LinerR...  137.625986  54.003743   \n",
              "Predicted Oxygen Quantity using Ridge               138.218014  53.753943   \n",
              "Predicted Oxygen Quantity using Lasso               138.150449  53.792842   \n",
              "Predicted Oxygen Quantity using MLP                 137.053594  53.965910   \n",
              "\n",
              "                                                        11862      11863  \\\n",
              "Actual Oxygen Quantity using ordinary LinerRegr...  81.750000  94.800000   \n",
              "Predicted Oxygen Quantity using ordinary LinerR...  81.794308  94.391111   \n",
              "Predicted Oxygen Quantity using Ridge               81.288509  93.293334   \n",
              "Predicted Oxygen Quantity using Lasso               81.301941  93.347779   \n",
              "Predicted Oxygen Quantity using MLP                 81.882230  94.384642   \n",
              "\n",
              "                                                        11864      11865  \n",
              "Actual Oxygen Quantity using ordinary LinerRegr...  34.200000  19.500000  \n",
              "Predicted Oxygen Quantity using ordinary LinerR...  35.707077  21.510258  \n",
              "Predicted Oxygen Quantity using Ridge               35.817122  21.648508  \n",
              "Predicted Oxygen Quantity using Lasso               35.794080  21.560194  \n",
              "Predicted Oxygen Quantity using MLP                 35.657543  21.539683  \n",
              "\n",
              "[5 rows x 11866 columns]"
            ]
          },
          "execution_count": 75,
          "metadata": {},
          "output_type": "execute_result"
        }
      ],
      "source": [
        "oxygentestdataframe = pd.read_csv('https://raw.githubusercontent.com/DEVAGOPIKRISHNAPRASAD/IotWithDataScience/main/iotwithdatascienceoxygeninfo_testdata.csv')\n",
        "TestFeatures = oxygendataframe.values[:, 0:3]  \n",
        "target = oxygendataframe.values[:, 3] \n",
        "\n",
        "predictedOxygenQuantity_ordinary = pd.DataFrame(ordinaryleastsquaresLinearRegressionModel.predict(TestFeatures), columns=['Predicted Oxygen Quantity using ordinary LinerRegression']) \n",
        "predictedOxygenQuantity_ridge = pd.DataFrame(ridge_model.predict(TestFeatures), columns=['Predicted Oxygen Quantity using Ridge']) \n",
        "predictedOxygenQuantity_lasso = pd.DataFrame(lasso_model.predict(TestFeatures), columns=['Predicted Oxygen Quantity using Lasso']) \n",
        "predictedOxygenQuantity_mlp = pd.DataFrame(MLP_Relu.predict(TestFeatures), columns=['Predicted Oxygen Quantity using MLP']) \n",
        "\n",
        "\n",
        "actualOxygenQuantity = pd.DataFrame(target, columns=['Actual Oxygen Quantity using ordinary LinerRegression'])\n",
        "actualOxygenQuantity = actualOxygenQuantity.reset_index(drop=True) \n",
        "\n",
        "\n",
        "df_actual_vs_predicted = pd.concat([actualOxygenQuantity,predictedOxygenQuantity_ordinary,predictedOxygenQuantity_ridge,predictedOxygenQuantity_lasso,predictedOxygenQuantity_mlp],axis =1)\n",
        "df_actual_vs_predicted.T"
      ]
    },
    {
      "cell_type": "code",
      "execution_count": 80,
      "metadata": {
        "colab": {
          "base_uri": "https://localhost:8080/",
          "height": 421
        },
        "id": "Cxd80rulsVrC",
        "outputId": "83e1f07f-0b69-42ce-ac53-1ed87a808871"
      },
      "outputs": [
        {
          "data": {
            "image/png": "[encoded data removed]",
            "text/plain": [
              "<Figure size 720x432 with 1 Axes>"
            ]
          },
          "metadata": {
            "needs_background": "light"
          },
          "output_type": "display_data"
        }
      ],
      "source": [
        "\n",
        "# plt.bar(target, ordinaryleastsquaresLinearRegressionModel.predict(TestFeatures))\n",
        "# plt.xlabel('Actual Oxygen Quantity')\n",
        "# plt.ylabel('Oxygen Quantity Predicted By Liner Regression Model')\n",
        "# plt.rcParams[\"figure.figsize\"] = (10,6) \n",
        "# plt.title(\"Actual Oxygen Quantity Vs Oxygen Quantity Predicted By Ordinary Leastsquares LinearRegression Model\")\n",
        "\n",
        "fig, ax = plt.subplots()\n",
        "columns = [target, ordinaryleastsquaresLinearRegressionModel.predict(TestFeatures)]\n",
        "ax.boxplot(columns, notch=True, patch_artist=True,showmeans=True,meanline=True)\n",
        "plt.title(\"Expected Oxygen Quantity Vs Oxygen Quantity Predicted by Liner Regression Model\")\n",
        "plt.xticks([1, 2], [\"Expected Oxygen Quantity in kgs\", \"Predicted Oxygen Quantity by Liner Regression Model in kgs\"])\n",
        "plt.show()"
      ]
    },
    {
      "cell_type": "code",
      "execution_count": 82,
      "metadata": {},
      "outputs": [
        {
          "data": {
            "image/png": "[encoded data removed]",
            "text/plain": [
              "<Figure size 720x432 with 1 Axes>"
            ]
          },
          "metadata": {
            "needs_background": "light"
          },
          "output_type": "display_data"
        }
      ],
      "source": [
        "# plt.bar(target, ridge_model.predict(TestFeatures))\n",
        "# plt.xlabel('Actual Oxygen Quantity')\n",
        "# plt.ylabel('Oxygen Quantity Predicted By Ridge Model')\n",
        "# plt.rcParams[\"figure.figsize\"] = (10,6) \n",
        "# plt.title(\"Actual Oxygen Quantity Vs Oxygen Quantity Predicted By Ridge Models\")\n",
        "\n",
        "\n",
        "fig, ax = plt.subplots()\n",
        "columns = [target, ridge_model.predict(TestFeatures)]\n",
        "ax.boxplot(columns, notch=True, patch_artist=True,showmeans=True,meanline=True)\n",
        "plt.title(\"Expected Oxygen Quantity Vs Oxygen Quantity Predicted by Ridge Model\")\n",
        "plt.xticks([1, 2], [\"Expected Oxygen Quantity in kgs\", \"Predicted Oxygen Quantity by Ridge Model in kgs\"])\n",
        "plt.show()"
      ]
    },
    {
      "cell_type": "code",
      "execution_count": 83,
      "metadata": {},
      "outputs": [
        {
          "data": {
            "image/png": "[encoded data removed]",
            "text/plain": [
              "<Figure size 720x432 with 1 Axes>"
            ]
          },
          "metadata": {
            "needs_background": "light"
          },
          "output_type": "display_data"
        }
      ],
      "source": [
        "# plt.boxplot(lasso_model.predict(TestFeatures))\n",
        "# plt.xlabel('Actual Oxygen Quantity')\n",
        "# plt.ylabel('Oxygen Quantity Predicted By Lasso Model')\n",
        "\n",
        "# plt.rcParams[\"figure.figsize\"] = (10,6) \n",
        "# plt.title(\"Actual Oxygen Quantity Vs Oxygen Quantity Predicted By Lasso Models\")\n",
        "\n",
        "fig, ax = plt.subplots()\n",
        "columns = [target, lasso_model.predict(TestFeatures)]\n",
        "ax.boxplot(columns, notch=True, patch_artist=True,showmeans=True,meanline=True)\n",
        "plt.title(\"Expected Oxygen Quantity Vs Oxygen Quantity Predicted by Lasso Model\")\n",
        "plt.xticks([1, 2], [\"Expected Oxygen Quantity in kgs\", \"Predicted Oxygen Quantity by Lasso Model in kgs\"])\n",
        "plt.show()\n",
        "\n",
        "\n"
      ]
    },
    {
      "cell_type": "code",
      "execution_count": 84,
      "metadata": {},
      "outputs": [
        {
          "data": {
            "image/png": "[encoded data removed]",
            "text/plain": [
              "<Figure size 720x432 with 1 Axes>"
            ]
          },
          "metadata": {
            "needs_background": "light"
          },
          "output_type": "display_data"
        }
      ],
      "source": [
        "# plt.bar(target, MLP_Relu.predict(TestFeatures))\n",
        "# plt.xlabel('Actual Oxygen Quantity')\n",
        "# plt.ylabel('Oxygen Quantity Predicted By MLP with ReLu Model')\n",
        "# plt.rcParams[\"figure.figsize\"] = (10,6) \n",
        "# plt.title(\"Actual Oxygen Quantity Vs Oxygen Quantity Predicted By MLP ReLu Models\")\n",
        "\n",
        "fig, ax = plt.subplots()\n",
        "columns = [target, lasso_model.predict(TestFeatures)]\n",
        "ax.boxplot(columns, notch=True, patch_artist=True,showmeans=True,meanline=True)\n",
        "plt.title(\"Expected Oxygen Quantity Vs Oxygen Quantity Predicted by MLP with ReLu Model\")\n",
        "plt.xticks([1, 2], [\"Expected Oxygen Quantity in kgs\", \"Predicted Oxygen Quantity by MLP with ReLu Model in kgs\"])\n",
        "plt.show()"
      ]
    },
    {
      "cell_type": "code",
      "execution_count": 79,
      "metadata": {},
      "outputs": [
        {
          "data": {
            "image/png": "[encoded data removed]",
            "text/plain": [
              "<Figure size 720x432 with 1 Axes>"
            ]
          },
          "metadata": {
            "needs_background": "light"
          },
          "output_type": "display_data"
        }
      ],
      "source": [
        "model=[]\n",
        "accuracy=[]\n",
        "\n",
        "ordinaryleastsquaresLinearRegressionModel_score = ordinaryleastsquaresLinearRegressionModel.score(TestFeatures, target)\n",
        "ridge_score = ridge_model.score(TestFeatures, target)\n",
        "lasso_score = lasso_model.score(TestFeatures, target)\n",
        "mlprelu_score = MLP_Relu.score(TestFeatures, target)\n",
        "\n",
        "model.append('Linear Regression')\n",
        "model.append('Ridge')\n",
        "model.append('Lasso')\n",
        "model.append('MLP')\n",
        "\n",
        "\n",
        "accuracy.append(ordinaryleastsquaresLinearRegressionModel_score*100)\n",
        "accuracy.append(ridge_score*100)\n",
        "accuracy.append(lasso_score*100)\n",
        "accuracy.append(mlprelu_score*100)\n",
        "# print(accuracy)\n",
        "\n",
        "# plt.boxplot (accuracy)\n",
        "# plt.xlabel('Multiple Regression Models')\n",
        "# plt.ylabel('Score Predicted By Multiple Regression Models')\n",
        "# plt.rcParams[\"figure.figsize\"] = (10,6) \n",
        "# plt.title(\"Comparision of Score predicted by multiple regression models\")\n",
        "\n",
        "# value1 = [84]\n",
        "# value2=[62]\n",
        "# value3=[23]\n",
        "# value4=[59]\n",
        " \n",
        "box_plot_data=[[ordinaryleastsquaresLinearRegressionModel_score*100],[ridge_score*100],[lasso_score*100],[mlprelu_score*100]]\n",
        "plt.xlabel('Multiple Regression Models')\n",
        "plt.ylabel('Score Predicted By Multiple Regression Models')\n",
        "plt.boxplot(box_plot_data,notch=True,patch_artist=True,labels=['Linear Regression','Ridge','Lasso','MLP with ReLu'],meanline=True,showmeans=True)\n",
        "plt.title(\"Comparision of Score predicted by multiple regression models\")\n",
        "plt.show()\n",
        "\n",
        "\n",
        "\n",
        "# fig = plt.figure(figsize=(10,10))\n",
        "# fig.suptitle('Multiple Regression Models')\n",
        "# ax = fig.add_subplot(111)\n",
        "# plt.boxplot(accuracy)\n",
        "# ax.set_xticklabels(model)\n",
        "# plt.show()\n",
        "\n",
        "\n",
        "# plt.xlabel('Multiple Regression Models')\n",
        "# plt.ylabel('Score Predicted By Multiple Regression Models')\n",
        "# plt.rcParams[\"figure.figsize\"] = (10,6) \n",
        "# plt.plot(model,accuracy)\n",
        "\n",
        "\n",
        "# print('Accuracy with Ordinary Liner Model',ordinaryleastsquaresLinearRegressionModel_acuracy*100,'%')\n",
        "# print('Accuracy with Ridge',ridge_acuracy*100,'%')\n",
        "# print('Accuracy with Lasso',lasso_acuracy*100,'%')\n",
        "# print('Accuracy with MLP',mlprelu_acuracy*100,'%')"
      ]
    },
    {
      "cell_type": "markdown",
      "metadata": {},
      "source": [
        "                                    Forecasting Oxygen quantity for next week"
      ]
    },
    {
      "cell_type": "code",
      "execution_count": 69,
      "metadata": {
        "colab": {
          "base_uri": "https://localhost:8080/"
        },
        "id": "sf_jER6-sYM6",
        "outputId": "cdcbfdbf-9c07-46fb-ece5-f00f3722b83e"
      },
      "outputs": [
        {
          "name": "stdout",
          "output_type": "stream",
          "text": [
            "<Response [200]>\n"
          ]
        }
      ],
      "source": [
        "# server = 'iotwithdatascienceserver.database.windows.net'\n",
        "# database = 'medicalstorage'\n",
        "# username = 'iotazureuser'\n",
        "# password = 'azureuser@A11' \n",
        "# driver= '{ODBC Driver 17 for SQL Server}'\n",
        "# predictionofOxygenStartDate= ''\n",
        "# with pyodbc.connect('DRIVER='+driver+';SERVER=tcp:'+server+';PORT=1433;DATABASE='+database+';UID='+username+';PWD='+ password) as conn:\n",
        "#     with conn.cursor() as cursor:\n",
        "#         cursor.execute(\"SELECT TypeofOperation,duration,age from OperationsInfo where ScheduledDate > '12/17/2021' and ScheduledDate < '12/23/2021' \")\n",
        "#         result = cursor.fetchall()\n",
        "#         final_result = [list(i) for i in result]\n",
        "\n",
        "# with pyodbc.connect('DRIVER='+driver+';SERVER=tcp:'+server+';PORT=1433;DATABASE='+database+';UID='+username+';PWD='+ password) as conn:\n",
        "#     with conn.cursor() as cursor:\n",
        "#         cursor.execute(\"SELECT top 1 LOADCELL from MedStorage where LOADCELL <> '------' order by 1 desc\")\n",
        "#         result = cursor.fetchall()\n",
        "#         currentOxygenQuantity = int([list(i) for i in result][0][0])\n",
        "\n",
        "          \n",
        "# predictedOxygenQuantity = 0\n",
        "# for i in range(len(final_result)):\n",
        "#     predictedOxygenQuantity += ridge_model.predict([final_result[i]])\n",
        "\n",
        "# print('Predicted oxygen quantity for next week is:', predictedOxygenQuantity) \n",
        "\n",
        "# quantityofOxygenRequired = predictedOxygenQuantity-currentOxygenQuantity\n",
        "# url = \"https://rest.nexmo.com/sms/json?from=18664797424&to=15734667123&api_key=cf15a5ea&api_secret=ZJ8wPv8RwYMDKVL1&text= Estimated Oxygen quantity  for next week is:\"+ str(quantityofOxygenRequired)+ \" in litres \"\n",
        "\n",
        "url = \"https://rest.nexmo.com/sms/json?from=18664797424&to=15734667123&api_key=cf15a5ea&api_secret=ZJ8wPv8RwYMDKVL1&text= Estimated Oxygen Cylinder capacity for next week is 342 kgs\"\n",
        "req = requests.get(url)\n",
        "print(req)\n",
        "\n",
        "\n",
        " \n"
      ]
    }
  ],
  "metadata": {
    "colab": {
      "collapsed_sections": [],
      "name": "IoTwithDataScience.ipynb",
      "provenance": []
    },
    "kernelspec": {
      "display_name": "Python 3",
      "name": "python3"
    },
    "language_info": {
      "codemirror_mode": {
        "name": "ipython",
        "version": 3
      },
      "file_extension": ".py",
      "mimetype": "text/x-python",
      "name": "python",
      "nbconvert_exporter": "python",
      "pygments_lexer": "ipython3",
      "version": "3.9.9"
    }
  },
  "nbformat": 4,
  "nbformat_minor": 0
}
